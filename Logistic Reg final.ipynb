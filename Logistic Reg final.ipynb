{
 "cells": [
  {
   "cell_type": "code",
   "execution_count": 1,
   "metadata": {},
   "outputs": [
    {
     "data": {
      "text/plain": [
       "0.8681318681318682"
      ]
     },
     "execution_count": 1,
     "metadata": {},
     "output_type": "execute_result"
    }
   ],
   "source": [
    "import pandas as pd\n",
    "import numpy as np\n",
    "import matplotlib.pyplot as plt\n",
    "import seaborn as sns\n",
    "import warnings\n",
    "warnings.filterwarnings('ignore')\n",
    "df = pd.read_csv('HealthData.csv')\n",
    "df.head()\n",
    "from sklearn.model_selection import train_test_split\n",
    "from sklearn.preprocessing import StandardScaler\n",
    "StandardScaler = StandardScaler()  \n",
    "columns_to_scale = ['age','trestbps','chol','thalach','oldpeak']\n",
    "df[columns_to_scale] = StandardScaler.fit_transform(df[columns_to_scale])\n",
    "X= df.drop(['num'], axis=1)\n",
    "y= df['num']\n",
    "X_train, X_test,y_train, y_test=train_test_split(X,y,test_size=0.3,random_state=40)\n",
    "from sklearn.linear_model import LogisticRegression\n",
    "lr=LogisticRegression()\n",
    "\n",
    "model1=lr.fit(X_train,y_train)\n",
    "prediction1=model1.predict(X_test)\n",
    "from sklearn.metrics import confusion_matrix\n",
    "\n",
    "cm=confusion_matrix(y_test,prediction1)\n",
    "cm\n",
    "from sklearn.metrics import accuracy_score\n",
    "accuracy_score(y_test,prediction1)"
   ]
  },
  {
   "cell_type": "code",
   "execution_count": 2,
   "metadata": {},
   "outputs": [
    {
     "name": "stdout",
     "output_type": "stream",
     "text": [
      "Age63\n",
      "sex1\n",
      "Type of chest pain1\n",
      "Blood Pressure145\n",
      "Cholestrol233\n",
      "Fastning blood sugar1\n",
      "ECG report2\n",
      "Maximum BPM150\n",
      "excecise induced angina0\n",
      "old peak2.3\n",
      "slope3\n",
      "Number of artries blocked0\n",
      "Type of Thalamessia6\n"
     ]
    }
   ],
   "source": [
    "a=input(\"Age\")\n",
    "m=input(\"sex\")\n",
    "b=input(\"Type of chest pain\")\n",
    "c=input(\"Blood Pressure\")\n",
    "d=input(\"Cholestrol\")\n",
    "e=input(\"Fastning blood sugar\")\n",
    "f=input(\"ECG report\")\n",
    "g=input(\"Maximum BPM\")\n",
    "h=input(\"excecise induced angina\")\n",
    "i=input(\"old peak\")\n",
    "j=input(\"slope\")\n",
    "k=input(\"Number of artries blocked\")\n",
    "l=input(\"Type of Thalamessia\")\n",
    "test1=[[a,m,b,c,d,e,f,g,h,i,j,k,l]]\n",
    "from pandas import DataFrame\n",
    "df1 = DataFrame (test1,columns=['age','sex','cp','trestbps','chol','fbs','restecg','thalach','exang','oldpeak','slope','ca','thal'])\n",
    "Y1_pred=lr.predict(df1)"
   ]
  },
  {
   "cell_type": "code",
   "execution_count": 4,
   "metadata": {},
   "outputs": [
    {
     "name": "stdout",
     "output_type": "stream",
     "text": [
      "No Heart Diseases\n"
     ]
    }
   ],
   "source": [
    "Y1_pred = lr.predict(df1)\n",
    "if(Y1_pred[0]==1):\n",
    "    print(\"Heart Diseaes\")\n",
    "else:\n",
    "    print(\"No Heart Diseases\")"
   ]
  },
  {
   "cell_type": "code",
   "execution_count": null,
   "metadata": {},
   "outputs": [],
   "source": []
  }
 ],
 "metadata": {
  "kernelspec": {
   "display_name": "Python 3",
   "language": "python",
   "name": "python3"
  },
  "language_info": {
   "codemirror_mode": {
    "name": "ipython",
    "version": 3
   },
   "file_extension": ".py",
   "mimetype": "text/x-python",
   "name": "python",
   "nbconvert_exporter": "python",
   "pygments_lexer": "ipython3",
   "version": "3.8.3"
  }
 },
 "nbformat": 4,
 "nbformat_minor": 4
}
